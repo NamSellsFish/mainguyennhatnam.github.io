{
 "cells": [
  {
   "cell_type": "markdown",
   "metadata": {},
   "source": [
    "Bài viết sau cung cấp các hàm và cú pháp thao tác cơ bản với ma trận trong Python. Hai thư viện được sử dụng là `sympy` và `numpy`. Một số hàm của `numpy` vẫn nhận parameter của `sympy`. Thư viện `sympy` chủ yếu được dùng để render kết quả dạng $\\LaTeX$"
   ]
  },
  {
   "cell_type": "code",
   "execution_count": 1,
   "metadata": {
    "collapsed": true
   },
   "outputs": [],
   "source": [
    "import sympy as sp\n",
    "import numpy as np\n",
    "from IPython.display import display\n",
    "sp.init_printing()"
   ]
  },
  {
   "cell_type": "markdown",
   "metadata": {},
   "source": [
    "## Khởi tạo một ma trận:"
   ]
  },
  {
   "cell_type": "code",
   "execution_count": 2,
   "metadata": {},
   "outputs": [
    {
     "name": "stdout",
     "output_type": "stream",
     "text": [
      "[[ -1   6 -12]\n",
      " [  0  18 -30]\n",
      " [  0   9 -15]]\n",
      "[[ 1  2 -1]\n",
      " [ 3  5  1]\n",
      " [ 4  7 -5]]\n"
     ]
    }
   ],
   "source": [
    "A = np.matrix([[-1, 6, -12], [0, 18, -30], [0, 9, -15]]) # Use matrix, same\n",
    "B = np.array([[1, 2, -1], [3, 5, 1], [4, 7, -5]]) # Use array, same\n",
    "print(A)\n",
    "print(B)"
   ]
  },
  {
   "cell_type": "markdown",
   "metadata": {},
   "source": [
    "## Khởi tạo vector"
   ]
  },
  {
   "cell_type": "code",
   "execution_count": 3,
   "metadata": {},
   "outputs": [
    {
     "name": "stdout",
     "output_type": "stream",
     "text": [
      "[1 2 3]\n"
     ]
    }
   ],
   "source": [
    "V = np.array([1, 2, 3])\n",
    "print(V)"
   ]
  },
  {
   "cell_type": "markdown",
   "metadata": {},
   "source": [
    "## Trace của ma trận"
   ]
  },
  {
   "cell_type": "code",
   "execution_count": 4,
   "metadata": {},
   "outputs": [
    {
     "data": {
      "text/plain": [
       "2"
      ]
     },
     "execution_count": 4,
     "metadata": {},
     "output_type": "execute_result"
    }
   ],
   "source": [
    "np.trace(A)"
   ]
  },
  {
   "cell_type": "markdown",
   "metadata": {},
   "source": [
    "## Ma trận chuyển vị"
   ]
  },
  {
   "cell_type": "code",
   "execution_count": 5,
   "metadata": {},
   "outputs": [
    {
     "data": {
      "image/png": "[encoded data removed]",
      "text/latex": [
       "$$\\left[\\begin{matrix}-1 & 0 & 0\\\\6 & 18 & 9\\\\-12 & -30 & -15\\end{matrix}\\right]$$"
      ],
      "text/plain": [
       "⎡-1    0    0 ⎤\n",
       "⎢             ⎥\n",
       "⎢ 6   18    9 ⎥\n",
       "⎢             ⎥\n",
       "⎣-12  -30  -15⎦"
      ]
     },
     "execution_count": 5,
     "metadata": {},
     "output_type": "execute_result"
    }
   ],
   "source": [
    "sp.Matrix(A.T)"
   ]
  },
  {
   "cell_type": "markdown",
   "metadata": {},
   "source": [
    "## Ma trận đơn vị"
   ]
  },
  {
   "cell_type": "code",
   "execution_count": 6,
   "metadata": {},
   "outputs": [
    {
     "data": {
      "image/png": "[encoded data removed]",
      "text/latex": [
       "$$\\left[\\begin{matrix}1 & 0 & 0\\\\0 & 1 & 0\\\\0 & 0 & 1\\end{matrix}\\right]$$"
      ],
      "text/plain": [
       "⎡1  0  0⎤\n",
       "⎢       ⎥\n",
       "⎢0  1  0⎥\n",
       "⎢       ⎥\n",
       "⎣0  0  1⎦"
      ]
     },
     "execution_count": 6,
     "metadata": {},
     "output_type": "execute_result"
    }
   ],
   "source": [
    "sp.Matrix(np.identity(3, int))"
   ]
  },
  {
   "cell_type": "markdown",
   "metadata": {},
   "source": [
    "## Cộng trừ hai ma trận"
   ]
  },
  {
   "cell_type": "code",
   "execution_count": 7,
   "metadata": {},
   "outputs": [
    {
     "data": {
      "image/png": "[encoded data removed]",
      "text/latex": [
       "$$\\left[\\begin{matrix}0 & 8 & -13\\\\3 & 23 & -29\\\\4 & 16 & -20\\end{matrix}\\right]$$"
      ],
      "text/plain": [
       "⎡0  8   -13⎤\n",
       "⎢          ⎥\n",
       "⎢3  23  -29⎥\n",
       "⎢          ⎥\n",
       "⎣4  16  -20⎦"
      ]
     },
     "execution_count": 7,
     "metadata": {},
     "output_type": "execute_result"
    }
   ],
   "source": [
    "sp.Matrix(A + B)"
   ]
  },
  {
   "cell_type": "markdown",
   "metadata": {},
   "source": [
    "## Nhân hai ma trận"
   ]
  },
  {
   "cell_type": "code",
   "execution_count": 8,
   "metadata": {
    "collapsed": true
   },
   "outputs": [],
   "source": [
    "A = np.matrix([[-1, 6, -12], [0, 18, -30], [0, 9, -15]])\n",
    "B = np.matrix([[1, 2, -1], [3, 5, 1], [4, 7, -5]])"
   ]
  },
  {
   "cell_type": "markdown",
   "metadata": {},
   "source": [
    "### Element-wise multiplication"
   ]
  },
  {
   "cell_type": "code",
   "execution_count": 9,
   "metadata": {},
   "outputs": [
    {
     "data": {
      "image/png": "[encoded data removed]",
      "text/latex": [
       "$$\\left[\\begin{matrix}-1 & 12 & 12\\\\0 & 90 & -30\\\\0 & 63 & 75\\end{matrix}\\right]$$"
      ],
      "text/plain": [
       "⎡-1  12  12 ⎤\n",
       "⎢           ⎥\n",
       "⎢0   90  -30⎥\n",
       "⎢           ⎥\n",
       "⎣0   63  75 ⎦"
      ]
     },
     "execution_count": 9,
     "metadata": {},
     "output_type": "execute_result"
    }
   ],
   "source": [
    "sp.Matrix(np.multiply(A, B)) "
   ]
  },
  {
   "cell_type": "markdown",
   "metadata": {},
   "source": [
    "### Phép nhân ma trận"
   ]
  },
  {
   "cell_type": "markdown",
   "metadata": {},
   "source": [
    "https://docs.scipy.org/doc/numpy/reference/generated/numpy.dot.html"
   ]
  },
  {
   "cell_type": "code",
   "execution_count": 10,
   "metadata": {
    "collapsed": true
   },
   "outputs": [],
   "source": [
    "A = sp.Matrix([[-1, 6, -12], [0, 18, -30], [0, 9, -15]])\n",
    "B = sp.Matrix([[1, 2, -1], [3, 5, 1], [4, 7, -5]])"
   ]
  },
  {
   "cell_type": "code",
   "execution_count": 11,
   "metadata": {},
   "outputs": [
    {
     "data": {
      "image/png": "[encoded data removed]",
      "text/latex": [
       "$$\\left[\\begin{matrix}-31 & -56 & 67\\\\-66 & -120 & 168\\\\-33 & -60 & 84\\end{matrix}\\right]$$"
      ],
      "text/plain": [
       "⎡-31  -56   67 ⎤\n",
       "⎢              ⎥\n",
       "⎢-66  -120  168⎥\n",
       "⎢              ⎥\n",
       "⎣-33  -60   84 ⎦"
      ]
     },
     "execution_count": 11,
     "metadata": {},
     "output_type": "execute_result"
    }
   ],
   "source": [
    "sp.Matrix(A*B)"
   ]
  },
  {
   "cell_type": "code",
   "execution_count": 12,
   "metadata": {},
   "outputs": [
    {
     "data": {
      "image/png": "[encoded data removed]",
      "text/latex": [
       "$$\\left[\\begin{matrix}-31 & -56 & 67\\\\-66 & -120 & 168\\\\-33 & -60 & 84\\end{matrix}\\right]$$"
      ],
      "text/plain": [
       "⎡-31  -56   67 ⎤\n",
       "⎢              ⎥\n",
       "⎢-66  -120  168⎥\n",
       "⎢              ⎥\n",
       "⎣-33  -60   84 ⎦"
      ]
     },
     "execution_count": 12,
     "metadata": {},
     "output_type": "execute_result"
    }
   ],
   "source": [
    "sp.Matrix(A@B)"
   ]
  },
  {
   "cell_type": "code",
   "execution_count": 13,
   "metadata": {},
   "outputs": [
    {
     "data": {
      "image/png": "[encoded data removed]",
      "text/latex": [
       "$$\\left[\\begin{matrix}-3 & 18 & -36\\\\0 & 54 & -90\\\\0 & 27 & -45\\end{matrix}\\right]$$"
      ],
      "text/plain": [
       "⎡-3  18  -36⎤\n",
       "⎢           ⎥\n",
       "⎢0   54  -90⎥\n",
       "⎢           ⎥\n",
       "⎣0   27  -45⎦"
      ]
     },
     "execution_count": 13,
     "metadata": {},
     "output_type": "execute_result"
    }
   ],
   "source": [
    "sp.Matrix(3*A)"
   ]
  },
  {
   "cell_type": "markdown",
   "metadata": {},
   "source": [
    "## Tích vô hướng hai vector"
   ]
  },
  {
   "cell_type": "code",
   "execution_count": 14,
   "metadata": {},
   "outputs": [
    {
     "data": {
      "text/plain": [
       "26"
      ]
     },
     "execution_count": 14,
     "metadata": {},
     "output_type": "execute_result"
    }
   ],
   "source": [
    "np.dot(np.array([1,2,3]), np.array([3,4,5]))"
   ]
  },
  {
   "cell_type": "markdown",
   "metadata": {},
   "source": [
    "## Định thức của ma trận"
   ]
  },
  {
   "cell_type": "code",
   "execution_count": 15,
   "metadata": {},
   "outputs": [
    {
     "data": {
      "image/png": "[encoded data removed]",
      "text/latex": [
       "$$5.0$$"
      ],
      "text/plain": [
       "5.0"
      ]
     },
     "execution_count": 15,
     "metadata": {},
     "output_type": "execute_result"
    }
   ],
   "source": [
    "A = np.matrix([[1, 2, -1], [3, 5, 1], [4, 7, -5]])\n",
    "np.linalg.det(A) # Only numpy"
   ]
  },
  {
   "cell_type": "markdown",
   "metadata": {},
   "source": [
    "## Nghịch đảo ma trận"
   ]
  },
  {
   "cell_type": "code",
   "execution_count": 16,
   "metadata": {},
   "outputs": [
    {
     "data": {
      "image/png": "[encoded data removed]",
      "text/latex": [
       "$$\\left[\\begin{matrix}-1.33333333333333 & 0.333333333333333 & 0.333333333333333\\\\0.791666666666667 & -0.0416666666666667 & -0.166666666666667\\\\0.0416666666666667 & 0.208333333333333 & -0.166666666666667\\end{matrix}\\right]$$"
      ],
      "text/plain": [
       "⎡-1.33333333333333    0.333333333333333   0.333333333333333 ⎤\n",
       "⎢                                                           ⎥\n",
       "⎢0.791666666666667   -0.0416666666666667  -0.166666666666667⎥\n",
       "⎢                                                           ⎥\n",
       "⎣0.0416666666666667   0.208333333333333   -0.166666666666667⎦"
      ]
     },
     "execution_count": 16,
     "metadata": {},
     "output_type": "execute_result"
    }
   ],
   "source": [
    "A = np.matrix([[1, 3, -1], [3, 5, 1], [4, 7, -5]]) # Use numpy\n",
    "sp.Matrix(A**-1) # Ugly result"
   ]
  },
  {
   "cell_type": "code",
   "execution_count": 17,
   "metadata": {},
   "outputs": [
    {
     "data": {
      "image/png": "[encoded data removed]",
      "text/latex": [
       "$$\\left[\\begin{matrix}- \\frac{4}{3} & \\frac{1}{3} & \\frac{1}{3}\\\\\\frac{19}{24} & - \\frac{1}{24} & - \\frac{1}{6}\\\\\\frac{1}{24} & \\frac{5}{24} & - \\frac{1}{6}\\end{matrix}\\right]$$"
      ],
      "text/plain": [
       "⎡-4/3   1/3   1/3 ⎤\n",
       "⎢                 ⎥\n",
       "⎢ 19              ⎥\n",
       "⎢ ──   -1/24  -1/6⎥\n",
       "⎢ 24              ⎥\n",
       "⎢                 ⎥\n",
       "⎣1/24  5/24   -1/6⎦"
      ]
     },
     "execution_count": 17,
     "metadata": {},
     "output_type": "execute_result"
    }
   ],
   "source": [
    "A = sp.Matrix([[1, 3, -1], [3, 5, 1], [4, 7, -5]]) # Use sympy\n",
    "sp.Matrix(A**-1) # mmmmmm"
   ]
  },
  {
   "cell_type": "markdown",
   "metadata": {},
   "source": [
    "## Eigenvalue & Eigenvector"
   ]
  },
  {
   "cell_type": "code",
   "execution_count": 18,
   "metadata": {},
   "outputs": [],
   "source": [
    "A = np.matrix([[-1, 6, -12], [0, 18, -30], [0, 9, -15]])"
   ]
  },
  {
   "cell_type": "code",
   "execution_count": 19,
   "metadata": {},
   "outputs": [
    {
     "data": {
      "text/plain": [
       "array([-1.,  3.,  0.])"
      ]
     },
     "execution_count": 19,
     "metadata": {},
     "output_type": "execute_result"
    }
   ],
   "source": [
    "np.linalg.eig(A)[0] # Only numpy"
   ]
  },
  {
   "cell_type": "code",
   "execution_count": 20,
   "metadata": {},
   "outputs": [
    {
     "data": {
      "text/plain": [
       "matrix([[ 1.        ,  0.        , -0.71713717],\n",
       "        [ 0.        ,  0.89442719,  0.5976143 ],\n",
       "        [ 0.        ,  0.4472136 ,  0.35856858]])"
      ]
     },
     "execution_count": 20,
     "metadata": {},
     "output_type": "execute_result"
    }
   ],
   "source": [
    "np.linalg.eig(A)[1] # Only numpy"
   ]
  },
  {
   "cell_type": "markdown",
   "metadata": {},
   "source": [
    "Đối với sympy:"
   ]
  },
  {
   "cell_type": "code",
   "execution_count": 21,
   "metadata": {
    "collapsed": true
   },
   "outputs": [],
   "source": [
    "A = sp.Matrix([[-1, 6, -12], [0, 18, -30], [0, 9, -15]])"
   ]
  },
  {
   "cell_type": "markdown",
   "metadata": {},
   "source": [
    "Hàm `eigenvals()` trả về dạng (eigenvalue : algebraic multiplicity)"
   ]
  },
  {
   "cell_type": "code",
   "execution_count": 22,
   "metadata": {},
   "outputs": [
    {
     "data": {
      "image/png": "[encoded data removed]",
      "text/latex": [
       "$$\\left \\{ -1 : 1, \\quad 0 : 1, \\quad 3 : 1\\right \\}$$"
      ],
      "text/plain": [
       "{-1: 1, 0: 1, 3: 1}"
      ]
     },
     "execution_count": 22,
     "metadata": {},
     "output_type": "execute_result"
    }
   ],
   "source": [
    "A.eigenvals() # Only with sympy"
   ]
  },
  {
   "cell_type": "markdown",
   "metadata": {},
   "source": [
    "Kết quả trả về gồm (eigenvalue, algebraic multiplicity, eigenvector)"
   ]
  },
  {
   "cell_type": "code",
   "execution_count": 23,
   "metadata": {},
   "outputs": [
    {
     "data": {
      "image/png": "[encoded data removed]",
      "text/latex": [
       "$$\\left [ \\left ( -1, \\quad 1, \\quad \\left [ \\left[\\begin{matrix}1\\\\0\\\\0\\end{matrix}\\right]\\right ]\\right ), \\quad \\left ( 0, \\quad 1, \\quad \\left [ \\left[\\begin{matrix}-2\\\\\\frac{5}{3}\\\\1\\end{matrix}\\right]\\right ]\\right ), \\quad \\left ( 3, \\quad 1, \\quad \\left [ \\left[\\begin{matrix}0\\\\2\\\\1\\end{matrix}\\right]\\right ]\\right )\\right ]$$"
      ],
      "text/plain": [
       "⎡⎛       ⎡⎡1⎤⎤⎞  ⎛      ⎡⎡-2 ⎤⎤⎞  ⎛      ⎡⎡0⎤⎤⎞⎤\n",
       "⎢⎜       ⎢⎢ ⎥⎥⎟  ⎜      ⎢⎢   ⎥⎥⎟  ⎜      ⎢⎢ ⎥⎥⎟⎥\n",
       "⎢⎜-1, 1, ⎢⎢0⎥⎥⎟, ⎜0, 1, ⎢⎢5/3⎥⎥⎟, ⎜3, 1, ⎢⎢2⎥⎥⎟⎥\n",
       "⎢⎜       ⎢⎢ ⎥⎥⎟  ⎜      ⎢⎢   ⎥⎥⎟  ⎜      ⎢⎢ ⎥⎥⎟⎥\n",
       "⎣⎝       ⎣⎣0⎦⎦⎠  ⎝      ⎣⎣ 1 ⎦⎦⎠  ⎝      ⎣⎣1⎦⎦⎠⎦"
      ]
     },
     "execution_count": 23,
     "metadata": {},
     "output_type": "execute_result"
    }
   ],
   "source": [
    "A.eigenvects() # Only with sympy"
   ]
  },
  {
   "cell_type": "markdown",
   "metadata": {},
   "source": [
    "## Jordan canonical form"
   ]
  },
  {
   "cell_type": "markdown",
   "metadata": {},
   "source": [
    "Trả về (modal matrix, Jordan canonical form).\n",
    "\n",
    "Jordan canonical form có thể là spectral form nếu tất cả các eigenvectors đều linearly independent"
   ]
  },
  {
   "cell_type": "code",
   "execution_count": 24,
   "metadata": {},
   "outputs": [
    {
     "data": {
      "image/png": "[encoded data removed]",
      "text/latex": [
       "$$\\left ( \\left[\\begin{matrix}1 & -2 & 0\\\\0 & \\frac{5}{3} & 2\\\\0 & 1 & 1\\end{matrix}\\right], \\quad \\left[\\begin{matrix}-1 & 0 & 0\\\\0 & 0 & 0\\\\0 & 0 & 3\\end{matrix}\\right]\\right )$$"
      ],
      "text/plain": [
       "⎛⎡1  -2   0⎤  ⎡-1  0  0⎤⎞\n",
       "⎜⎢         ⎥  ⎢        ⎥⎟\n",
       "⎜⎢0  5/3  2⎥, ⎢0   0  0⎥⎟\n",
       "⎜⎢         ⎥  ⎢        ⎥⎟\n",
       "⎝⎣0   1   1⎦  ⎣0   0  3⎦⎠"
      ]
     },
     "execution_count": 24,
     "metadata": {},
     "output_type": "execute_result"
    }
   ],
   "source": [
    "A.jordan_form() # Only with sympy"
   ]
  }
 ],
 "metadata": {
  "kernelspec": {
   "display_name": "Python 3",
   "language": "python",
   "name": "python3"
  },
  "language_info": {
   "codemirror_mode": {
    "name": "ipython",
    "version": 3
   },
   "file_extension": ".py",
   "mimetype": "text/x-python",
   "name": "python",
   "nbconvert_exporter": "python",
   "pygments_lexer": "ipython3",
   "version": "3.6.0"
  }
 },
 "nbformat": 4,
 "nbformat_minor": 2
}
